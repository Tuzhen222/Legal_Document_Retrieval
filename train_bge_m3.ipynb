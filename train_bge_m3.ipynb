{
 "cells": [
  {
   "cell_type": "markdown",
   "metadata": {},
   "source": [
    "## 1. Setting\n"
   ]
  },
  {
   "cell_type": "code",
   "execution_count": null,
   "metadata": {
    "execution": {
     "iopub.execute_input": "2024-12-23T04:48:00.789279Z",
     "iopub.status.busy": "2024-12-23T04:48:00.788974Z",
     "iopub.status.idle": "2024-12-23T04:48:10.700171Z",
     "shell.execute_reply": "2024-12-23T04:48:10.699077Z",
     "shell.execute_reply.started": "2024-12-23T04:48:00.789255Z"
    },
    "trusted": true
   },
   "outputs": [],
   "source": [
    "!pip install gdown"
   ]
  },
  {
   "cell_type": "code",
   "execution_count": null,
   "metadata": {
    "execution": {
     "iopub.execute_input": "2024-12-23T04:48:10.702151Z",
     "iopub.status.busy": "2024-12-23T04:48:10.701827Z",
     "iopub.status.idle": "2024-12-23T04:48:18.478504Z",
     "shell.execute_reply": "2024-12-23T04:48:18.477742Z",
     "shell.execute_reply.started": "2024-12-23T04:48:10.702114Z"
    },
    "trusted": true
   },
   "outputs": [],
   "source": [
    "import wandb\n",
    "wandb.login(key=\"cd016e8ceb54cd2fed0cc8ec6f0e7d8e80bb6824\")"
   ]
  },
  {
   "cell_type": "code",
   "execution_count": null,
   "metadata": {
    "execution": {
     "iopub.execute_input": "2024-12-23T04:48:18.480658Z",
     "iopub.status.busy": "2024-12-23T04:48:18.480312Z",
     "iopub.status.idle": "2024-12-23T04:48:20.619003Z",
     "shell.execute_reply": "2024-12-23T04:48:20.617918Z",
     "shell.execute_reply.started": "2024-12-23T04:48:18.480639Z"
    },
    "trusted": true
   },
   "outputs": [],
   "source": [
    "!git clone https://github.com/FlagOpen/FlagEmbedding.git"
   ]
  },
  {
   "cell_type": "code",
   "execution_count": null,
   "metadata": {
    "execution": {
     "iopub.execute_input": "2024-12-23T04:48:20.621095Z",
     "iopub.status.busy": "2024-12-23T04:48:20.620742Z",
     "iopub.status.idle": "2024-12-23T04:49:24.027730Z",
     "shell.execute_reply": "2024-12-23T04:49:24.026591Z",
     "shell.execute_reply.started": "2024-12-23T04:48:20.621058Z"
    },
    "trusted": true
   },
   "outputs": [],
   "source": [
    "%cd FlagEmbedding\n",
    "!pip install  .[finetune]\n",
    "!pip install deepspeed==0.15.4 "
   ]
  },
  {
   "cell_type": "markdown",
   "metadata": {},
   "source": [
    "## 2. Finetuned"
   ]
  },
  {
   "cell_type": "code",
   "execution_count": null,
   "metadata": {
    "execution": {
     "iopub.execute_input": "2024-12-23T04:47:26.431136Z",
     "iopub.status.busy": "2024-12-23T04:47:26.430864Z",
     "iopub.status.idle": "2024-12-23T04:47:47.245609Z",
     "shell.execute_reply": "2024-12-23T04:47:47.244961Z",
     "shell.execute_reply.started": "2024-12-23T04:47:26.431100Z"
    },
    "trusted": true
   },
   "outputs": [],
   "source": [
    "import gdown\n",
    "gdown.download('https://drive.google.com/uc?id=1Nhx1FS5Wy_SczLSYDhkRrhmvlFyUYY0i', '/kaggle/working/data_round1.jsonl', quiet=False)\n"
   ]
  },
  {
   "cell_type": "code",
   "execution_count": null,
   "metadata": {
    "execution": {
     "iopub.execute_input": "2024-12-23T04:49:24.029198Z",
     "iopub.status.busy": "2024-12-23T04:49:24.028974Z",
     "iopub.status.idle": "2024-12-23T04:50:52.043298Z",
     "shell.execute_reply": "2024-12-23T04:50:52.042236Z",
     "shell.execute_reply.started": "2024-12-23T04:49:24.029177Z"
    },
    "trusted": true
   },
   "outputs": [],
   "source": [
    "!torchrun --nproc_per_node 2 \\\n",
    "    -m FlagEmbedding.finetune.embedder.encoder_only.m3 \\\n",
    "    --model_name_or_path '/kaggle/input/checkpoint-23400' \\\n",
    "    --cache_dir ./cache/model \\\n",
    "    --train_data /kaggle/working/data_round1.jsonl \\\n",
    "    --cache_path ./cache/data \\\n",
    "    --train_group_size 2 \\\n",
    "    --query_max_len 128 \\\n",
    "    --passage_max_len 400 \\\n",
    "    --pad_to_multiple_of 2 \\\n",
    "    --same_dataset_within_batch True \\\n",
    "    --small_threshold 0 \\\n",
    "    --drop_threshold 0 \\\n",
    "    --output_dir /kaggle/working \\\n",
    "    --overwrite_output_dir \\\n",
    "    --learning_rate 2e-5 \\\n",
    "    --fp16 \\\n",
    "    --num_train_epochs 4 \\\n",
    "    --per_device_train_batch_size 4 \\\n",
    "    --dataloader_drop_last True \\\n",
    "    --warmup_ratio 0.1 \\\n",
    "    --gradient_checkpointing \\\n",
    "    --deepspeed /kaggle/working/FlagEmbedding/examples/finetune/ds_stage0.json \\\n",
    "    --logging_steps 1\\\n",
    "    --save_steps 5200    \\\n",
    "    --weight_decay 0.01 \\\n",
    "    --negatives_cross_device \\\n",
    "    --temperature 0.02 \\\n",
    "    --normalize_embeddings True \\\n",
    "    --unified_finetuning True \\\n",
    "    --use_self_distill True \\\n",
    "    --fix_encoder False \\\n",
    "    --self_distill_start_step 0 \\\n",
    "    --gradient_accumulation_steps 8\n"
   ]
  }
 ],
 "metadata": {
  "kaggle": {
   "accelerator": "gpu",
   "dataSources": [
    {
     "datasetId": 6346373,
     "sourceId": 10259156,
     "sourceType": "datasetVersion"
    },
    {
     "datasetId": 6356606,
     "sourceId": 10273353,
     "sourceType": "datasetVersion"
    }
   ],
   "isGpuEnabled": true,
   "isInternetEnabled": true,
   "language": "python",
   "sourceType": "notebook"
  },
  "kernelspec": {
   "display_name": "Python 3",
   "language": "python",
   "name": "python3"
  },
  "language_info": {
   "codemirror_mode": {
    "name": "ipython",
    "version": 3
   },
   "file_extension": ".py",
   "mimetype": "text/x-python",
   "name": "python",
   "nbconvert_exporter": "python",
   "pygments_lexer": "ipython3",
   "version": "3.10.12"
  }
 },
 "nbformat": 4,
 "nbformat_minor": 4
}
