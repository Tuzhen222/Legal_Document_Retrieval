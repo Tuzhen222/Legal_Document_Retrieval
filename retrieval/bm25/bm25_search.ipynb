{
 "cells": [
  {
   "cell_type": "code",
   "execution_count": 1,
   "metadata": {
    "_cell_guid": "b1076dfc-b9ad-4769-8c92-a6c4dae69d19",
    "_uuid": "8f2839f25d086af736a60e9eeb907d3b93b6e0e5",
    "execution": {
     "iopub.execute_input": "2024-12-16T14:13:28.856052Z",
     "iopub.status.busy": "2024-12-16T14:13:28.855508Z",
     "iopub.status.idle": "2024-12-16T14:14:05.076391Z",
     "shell.execute_reply": "2024-12-16T14:14:05.074658Z",
     "shell.execute_reply.started": "2024-12-16T14:13:28.855980Z"
    },
    "trusted": true
   },
   "outputs": [
    {
     "name": "stdout",
     "output_type": "stream",
     "text": [
      "Collecting rank_bm25\n",
      "  Downloading rank_bm25-0.2.2-py3-none-any.whl.metadata (3.2 kB)\n",
      "Requirement already satisfied: numpy in /opt/conda/lib/python3.10/site-packages (from rank_bm25) (1.26.4)\n",
      "Downloading rank_bm25-0.2.2-py3-none-any.whl (8.6 kB)\n",
      "Installing collected packages: rank_bm25\n",
      "Successfully installed rank_bm25-0.2.2\n",
      "Collecting underthesea\n",
      "  Downloading underthesea-6.8.4-py3-none-any.whl.metadata (15 kB)\n",
      "Requirement already satisfied: Click>=6.0 in /opt/conda/lib/python3.10/site-packages (from underthesea) (8.1.7)\n",
      "Collecting python-crfsuite>=0.9.6 (from underthesea)\n",
      "  Downloading python_crfsuite-0.9.11-cp310-cp310-manylinux_2_17_x86_64.manylinux2014_x86_64.whl.metadata (4.3 kB)\n",
      "Requirement already satisfied: nltk in /opt/conda/lib/python3.10/site-packages (from underthesea) (3.2.4)\n",
      "Requirement already satisfied: tqdm in /opt/conda/lib/python3.10/site-packages (from underthesea) (4.66.4)\n",
      "Requirement already satisfied: requests in /opt/conda/lib/python3.10/site-packages (from underthesea) (2.32.3)\n",
      "Requirement already satisfied: joblib in /opt/conda/lib/python3.10/site-packages (from underthesea) (1.4.2)\n",
      "Requirement already satisfied: scikit-learn in /opt/conda/lib/python3.10/site-packages (from underthesea) (1.2.2)\n",
      "Requirement already satisfied: PyYAML in /opt/conda/lib/python3.10/site-packages (from underthesea) (6.0.2)\n",
      "Collecting underthesea-core==1.0.4 (from underthesea)\n",
      "  Downloading underthesea_core-1.0.4-cp310-cp310-manylinux2010_x86_64.whl.metadata (1.7 kB)\n",
      "Requirement already satisfied: six in /opt/conda/lib/python3.10/site-packages (from nltk->underthesea) (1.16.0)\n",
      "Requirement already satisfied: charset-normalizer<4,>=2 in /opt/conda/lib/python3.10/site-packages (from requests->underthesea) (3.3.2)\n",
      "Requirement already satisfied: idna<4,>=2.5 in /opt/conda/lib/python3.10/site-packages (from requests->underthesea) (3.7)\n",
      "Requirement already satisfied: urllib3<3,>=1.21.1 in /opt/conda/lib/python3.10/site-packages (from requests->underthesea) (1.26.18)\n",
      "Requirement already satisfied: certifi>=2017.4.17 in /opt/conda/lib/python3.10/site-packages (from requests->underthesea) (2024.6.2)\n",
      "Requirement already satisfied: numpy>=1.17.3 in /opt/conda/lib/python3.10/site-packages (from scikit-learn->underthesea) (1.26.4)\n",
      "Requirement already satisfied: scipy>=1.3.2 in /opt/conda/lib/python3.10/site-packages (from scikit-learn->underthesea) (1.14.1)\n",
      "Requirement already satisfied: threadpoolctl>=2.0.0 in /opt/conda/lib/python3.10/site-packages (from scikit-learn->underthesea) (3.5.0)\n",
      "Downloading underthesea-6.8.4-py3-none-any.whl (20.9 MB)\n",
      "\u001b[2K   \u001b[90m━━━━━━━━━━━━━━━━━━━━━━━━━━━━━━━━━━━━━━━━\u001b[0m \u001b[32m20.9/20.9 MB\u001b[0m \u001b[31m59.0 MB/s\u001b[0m eta \u001b[36m0:00:00\u001b[0m:00:01\u001b[0m00:01\u001b[0m\n",
      "\u001b[?25hDownloading underthesea_core-1.0.4-cp310-cp310-manylinux2010_x86_64.whl (657 kB)\n",
      "\u001b[2K   \u001b[90m━━━━━━━━━━━━━━━━━━━━━━━━━━━━━━━━━━━━━━━━\u001b[0m \u001b[32m657.8/657.8 kB\u001b[0m \u001b[31m29.7 MB/s\u001b[0m eta \u001b[36m0:00:00\u001b[0m\n",
      "\u001b[?25hDownloading python_crfsuite-0.9.11-cp310-cp310-manylinux_2_17_x86_64.manylinux2014_x86_64.whl (1.2 MB)\n",
      "\u001b[2K   \u001b[90m━━━━━━━━━━━━━━━━━━━━━━━━━━━━━━━━━━━━━━━━\u001b[0m \u001b[32m1.2/1.2 MB\u001b[0m \u001b[31m39.2 MB/s\u001b[0m eta \u001b[36m0:00:00\u001b[0m\n",
      "\u001b[?25hInstalling collected packages: underthesea-core, python-crfsuite, underthesea\n",
      "Successfully installed python-crfsuite-0.9.11 underthesea-6.8.4 underthesea-core-1.0.4\n",
      "Collecting gdown\n",
      "  Downloading gdown-5.2.0-py3-none-any.whl.metadata (5.8 kB)\n",
      "Requirement already satisfied: beautifulsoup4 in /opt/conda/lib/python3.10/site-packages (from gdown) (4.12.3)\n",
      "Requirement already satisfied: filelock in /opt/conda/lib/python3.10/site-packages (from gdown) (3.15.1)\n",
      "Requirement already satisfied: requests[socks] in /opt/conda/lib/python3.10/site-packages (from gdown) (2.32.3)\n",
      "Requirement already satisfied: tqdm in /opt/conda/lib/python3.10/site-packages (from gdown) (4.66.4)\n",
      "Requirement already satisfied: soupsieve>1.2 in /opt/conda/lib/python3.10/site-packages (from beautifulsoup4->gdown) (2.5)\n",
      "Requirement already satisfied: charset-normalizer<4,>=2 in /opt/conda/lib/python3.10/site-packages (from requests[socks]->gdown) (3.3.2)\n",
      "Requirement already satisfied: idna<4,>=2.5 in /opt/conda/lib/python3.10/site-packages (from requests[socks]->gdown) (3.7)\n",
      "Requirement already satisfied: urllib3<3,>=1.21.1 in /opt/conda/lib/python3.10/site-packages (from requests[socks]->gdown) (1.26.18)\n",
      "Requirement already satisfied: certifi>=2017.4.17 in /opt/conda/lib/python3.10/site-packages (from requests[socks]->gdown) (2024.6.2)\n",
      "Requirement already satisfied: PySocks!=1.5.7,>=1.5.6 in /opt/conda/lib/python3.10/site-packages (from requests[socks]->gdown) (1.7.1)\n",
      "Downloading gdown-5.2.0-py3-none-any.whl (18 kB)\n",
      "Installing collected packages: gdown\n",
      "Successfully installed gdown-5.2.0\n"
     ]
    }
   ],
   "source": [
    "\n",
    "!pip install rank_bm25\n",
    "!pip install underthesea\n",
    "!pip install gdown\n"
   ]
  },
  {
   "cell_type": "code",
   "execution_count": 2,
   "metadata": {
    "execution": {
     "iopub.execute_input": "2024-12-16T14:14:05.079817Z",
     "iopub.status.busy": "2024-12-16T14:14:05.079265Z",
     "iopub.status.idle": "2024-12-16T14:14:18.123041Z",
     "shell.execute_reply": "2024-12-16T14:14:18.121912Z",
     "shell.execute_reply.started": "2024-12-16T14:14:05.079735Z"
    },
    "trusted": true
   },
   "outputs": [
    {
     "name": "stderr",
     "output_type": "stream",
     "text": [
      "Downloading...\n",
      "From: https://drive.google.com/uc?id=1wy8i6qAVWgvD4vzyyY7_3_0aj0J4gz5z\n",
      "To: /kaggle/working/test_data.csv\n",
      "100%|██████████| 18.4M/18.4M [00:00<00:00, 71.2MB/s]\n",
      "Downloading...\n",
      "From (original): https://drive.google.com/uc?id=1391dilnIYwe0uGRSJ7MwqrTUvoFPhgMT\n",
      "From (redirected): https://drive.google.com/uc?id=1391dilnIYwe0uGRSJ7MwqrTUvoFPhgMT&confirm=t&uuid=8683843f-327f-4fdf-ac58-fb5108344dfc\n",
      "To: /kaggle/working/bm25_model.pkl\n",
      "100%|██████████| 232M/232M [00:02<00:00, 104MB/s]  \n"
     ]
    },
    {
     "name": "stdout",
     "output_type": "stream",
     "text": [
      "File downloaded successfully!\n"
     ]
    }
   ],
   "source": [
    "#load test_data\n",
    "import pandas as pd\n",
    "import gdown\n",
    "\n",
    "file_url = \"https://drive.google.com/uc?id=1wy8i6qAVWgvD4vzyyY7_3_0aj0J4gz5z\"\n",
    "file_url2 = \"https://drive.google.com/uc?id=1391dilnIYwe0uGRSJ7MwqrTUvoFPhgMT\"\n",
    "\n",
    "output_path = \"/kaggle/working/test_data.csv\"\n",
    "output_path2 = \"/kaggle/working/bm25_model.pkl\"\n",
    "\n",
    "gdown.download(file_url, output_path, quiet=False)\n",
    "gdown.download(file_url2, output_path2, quiet=False)\n",
    "\n",
    "print(\"File downloaded successfully!\")\n",
    "\n",
    "data = pd.read_csv('/kaggle/working/test_data.csv')\n",
    "questions = data['question'].tolist()\n",
    "qids = data['qid'].tolist()\n"
   ]
  },
  {
   "cell_type": "code",
   "execution_count": 3,
   "metadata": {
    "execution": {
     "iopub.execute_input": "2024-12-16T14:14:18.125155Z",
     "iopub.status.busy": "2024-12-16T14:14:18.124656Z",
     "iopub.status.idle": "2024-12-16T14:14:18.881051Z",
     "shell.execute_reply": "2024-12-16T14:14:18.879853Z",
     "shell.execute_reply.started": "2024-12-16T14:14:18.125105Z"
    },
    "trusted": true
   },
   "outputs": [],
   "source": [
    "\n",
    "import re\n",
    "import string\n",
    "\n",
    "def process_cid(s):\n",
    "    s = s.strip('[]')\n",
    "    elements = re.split(r'[\\,\\s]+', s)\n",
    "    return [int(element) for element in elements if element.strip().isdigit()]\n",
    "\n",
    "result = {}\n",
    "\n",
    "for idx, row in data.iterrows():\n",
    "    qid = row['qid']\n",
    "    cid = process_cid(row['cid'])\n",
    "    result[qid] = cid"
   ]
  },
  {
   "cell_type": "code",
   "execution_count": 4,
   "metadata": {
    "execution": {
     "iopub.execute_input": "2024-12-16T14:14:18.883754Z",
     "iopub.status.busy": "2024-12-16T14:14:18.883385Z",
     "iopub.status.idle": "2024-12-16T14:14:27.113663Z",
     "shell.execute_reply": "2024-12-16T14:14:27.112326Z",
     "shell.execute_reply.started": "2024-12-16T14:14:18.883717Z"
    },
    "trusted": true
   },
   "outputs": [],
   "source": [
    "\n",
    "import pickle\n",
    "\n",
    "with open('/kaggle/working/bm25_model.pkl', 'rb') as f:\n",
    "    bm25 = pickle.load(f)\n"
   ]
  },
  {
   "cell_type": "code",
   "execution_count": 5,
   "metadata": {
    "execution": {
     "iopub.execute_input": "2024-12-16T14:14:27.115577Z",
     "iopub.status.busy": "2024-12-16T14:14:27.115239Z",
     "iopub.status.idle": "2024-12-16T14:14:27.127528Z",
     "shell.execute_reply": "2024-12-16T14:14:27.126347Z",
     "shell.execute_reply.started": "2024-12-16T14:14:27.115544Z"
    },
    "trusted": true
   },
   "outputs": [],
   "source": [
    "\n",
    "number = [\"1\", \"2\", \"3\", \"4\", \"5\", \"6\", \"7\", \"8\", \"9\", \"10\"]\n",
    "chars = [\"a\", \"b\", \"c\", \"d\", \"đ\", \"e\", \"f\", \"g\", \"h\", \"i\", \"j\", \"k\", \"l\", \"m\", \"n\", \"o\"]\n",
    "stop_word = number + chars + [\"của\", \"và\", \"các\", \"có\", \"được\", \"theo\", \"tại\", \"trong\", \"về\", \n",
    "            \"hoặc\", \"người\",  \"này\", \"khoản\", \"cho\", \"không\", \"từ\", \"phải\", \n",
    "            \"ngày\", \"việc\", \"sau\",  \"để\",  \"đến\", \"bộ\",  \"với\", \"là\", \"năm\", \n",
    "            \"khi\", \"số\", \"trên\", \"khác\", \"đã\", \"thì\", \"thuộc\", \"điểm\", \"đồng\",\n",
    "            \"do\", \"một\", \"bị\", \"vào\", \"lại\", \"ở\", \"nếu\", \"làm\", \"đây\", \n",
    "            \"như\", \"đó\", \"mà\", \"nơi\", \"”\", \"“\"]\n",
    "\n",
    "def remove_stopword(w):\n",
    "    return w not in stop_word\n",
    "\n",
    "def remove_punctuation(w):\n",
    "    return w not in string.punctuation\n",
    "\n",
    "def lower_case(w):\n",
    "    return w.lower()\n",
    "\n",
    "def bm25_tokenizer(text):\n",
    "    tokens = word_tokenize(text)\n",
    "    tokens = list(map(lower_case, tokens))\n",
    "    tokens = list(filter(remove_punctuation, tokens))\n",
    "    tokens = list(filter(remove_stopword, tokens))\n",
    "    return tokens"
   ]
  },
  {
   "cell_type": "code",
   "execution_count": 17,
   "metadata": {
    "execution": {
     "iopub.execute_input": "2024-12-16T14:25:22.067773Z",
     "iopub.status.busy": "2024-12-16T14:25:22.067295Z",
     "iopub.status.idle": "2024-12-16T14:25:41.872250Z",
     "shell.execute_reply": "2024-12-16T14:25:41.871165Z",
     "shell.execute_reply.started": "2024-12-16T14:25:22.067738Z"
    },
    "trusted": true
   },
   "outputs": [
    {
     "name": "stderr",
     "output_type": "stream",
     "text": [
      "Searching BM25 candidates: 100%|██████████| 10/10 [00:19<00:00,  1.98s/it]"
     ]
    },
    {
     "name": "stdout",
     "output_type": "stream",
     "text": [
      "[array([ 41204,  77626, 258194, 258187,  77625,  41205, 258174, 258173,\n",
      "       258212, 258202,  41202,  41209, 223257,  71054, 258200, 258190,\n",
      "       258193, 283097, 258175, 223248]), array([108382,  95838, 172222, 207691, 119852, 196001, 147521, 126144,\n",
      "        85026,  76534,  82694,  42644,  69800, 151242,  22014, 222558,\n",
      "       301120, 289104, 141256, 222565]), array([140057,  81565, 108185,  75749, 291947, 106254, 112310, 112311,\n",
      "       149275, 194147, 116622,  99302, 100315,  94335, 314038, 123403,\n",
      "       277172, 106189, 119409,  24068]), array([ 81305,  79021,   5529,   5521,  81993,   5522,  77313,   5520,\n",
      "        77248,  95891,  70737, 126835,  95890, 292693,  76621,   3833,\n",
      "        81992,   5523,  91390,  77246]), array([ 45968,  45970, 252656, 154631,  52966,  52965,  52963, 252659,\n",
      "        45973, 106696,  77918,  75697, 250135,  45967, 139667, 252658,\n",
      "       251888,  52969, 304016,  38399]), array([ 44174, 285798,  32007,  75833, 247866,  76888, 123466,  37690,\n",
      "       101602, 285857, 119930,  69738,  29392,  44175, 109362, 290041,\n",
      "       285856,  44178,  32002, 285802]), array([ 78601, 178807,  91026,  96824, 144247, 311358, 123094,    147,\n",
      "        88093, 174703, 174708, 117302,  78602, 292306, 113168, 133373,\n",
      "       153323,  83195, 174704, 174699]), array([102334,  62924, 140130,  62923,  62921,  62941,  62920,  84171,\n",
      "       106221, 252173, 252174,  62922, 176898, 252107,  90341, 219345,\n",
      "        74321, 311366,  86933, 109059]), array([233286, 102782, 117603,  76502,  21837, 206487,  34724,  44196,\n",
      "       150330,  21840,  21846, 148356, 296510, 307302, 247491, 215618,\n",
      "         9108,  21848,  78709, 108708]), array([225540,  60142, 116065,  60141, 116066, 124116,  82887, 124117,\n",
      "       105251, 116907,  33591,  44706,  60143, 116067, 100344, 102817,\n",
      "        44709, 118090,   8730, 100622])]\n",
      "Complete\n"
     ]
    },
    {
     "name": "stderr",
     "output_type": "stream",
     "text": [
      "\n"
     ]
    }
   ],
   "source": [
    "from tqdm import tqdm\n",
    "import numpy as np\n",
    "from underthesea import word_tokenize\n",
    "\n",
    "candidate_list_with_scores = []\n",
    "for question in tqdm(questions, desc=\"Searching BM25 candidates\"):\n",
    "    query_tokens = bm25_tokenizer(question)\n",
    "    bm25_scores = bm25.get_scores(query_tokens)\n",
    "    top_candidates = np.argsort(-bm25_scores)[:20]\n",
    "    \n",
    "    # Lấy cặp (id, score) cho các top ứng viên\n",
    "    top_candidates_with_scores = [(idx, bm25_scores[idx]) for idx in top_candidates]\n",
    "    candidate_list_with_scores.append(top_candidates_with_scores)\n",
    "\n",
    "# Lưu danh sách kèm điểm số\n",
    "np.save(\"candidate_list_with_scores.npy\", np.array(candidate_list_with_scores, dtype=object))\n",
    "print(\"Complete\")\n"
   ]
  },
  {
   "cell_type": "code",
   "execution_count": 18,
   "metadata": {
    "execution": {
     "iopub.execute_input": "2024-12-16T14:25:41.874223Z",
     "iopub.status.busy": "2024-12-16T14:25:41.873908Z",
     "iopub.status.idle": "2024-12-16T14:25:47.469497Z",
     "shell.execute_reply": "2024-12-16T14:25:47.468039Z",
     "shell.execute_reply.started": "2024-12-16T14:25:41.874193Z"
    },
    "trusted": true
   },
   "outputs": [
    {
     "name": "stdout",
     "output_type": "stream",
     "text": [
      "Converted Candidate List (infor_id): [['32637', '63925', '569843', '569840', '63924', '32637', '569827', '569827', '569852', '569847', '32637', '32638', '524069', '57539', '569845', '569841', '569842', '601818', '569828', '524058'], ['120977', '94163', '461169', '504899', '149139', '490066', '232461', '166225', '74903', '62534', '71246', '33902', '56445', '245758', '17329', '523096', '625832', '610373', '211858', '523102'], ['207940', '69498', '120532', '61526', '613869', '116014', '129882', '129883', '238853', '487687', '140746', '101047', '103167', '91150', '641436', '158529', '594157', '115881', '147983', '18797'], ['69091', '65833', '4568', '4561', '70163', '4562', '63532', '4560', '63447', '94266', '57222', '168139', '94265', '614993', '62647', '3130', '70163', '4563', '85776', '63444'], ['36509', '36511', '562367', '258082', '42198', '42197', '42195', '562374', '36512', '117009', '64315', '61474', '558792', '36508', '206752', '562374', '561282', '42201', '629546', '30277'], ['35111', '605447', '25142', '61650', '555560', '62992', '158699', '29724', '105803', '605538', '149323', '56406', '23252', '35112', '123257', '611473', '605538', '35115', '25137', '605453'], ['65260', '468850', '85112', '96224', '221590', '638218', '157675', '129', '80050', '464059', '464063', '142526', '65261', '614324', '131909', '187240', '253411', '71968', '464059', '464056'], ['107454', '50671', '208211', '50670', '50668', '50684', '50667', '73516', '115950', '561740', '561742', '50669', '466603', '561488', '83916', '519083', '60494', '638230', '78052', '122511'], ['537108', '108356', '143322', '62492', '17187', '503387', '27433', '35123', '242516', '17189', '17194', '235517', '620231', '633224', '555142', '514688', '7558', '17196', '65410', '121702'], ['527055', '48401', '139347', '48401', '139347', '160484', '71561', '160485', '113754', '141485', '26494', '35481', '48401', '139347', '103223', '108442', '35484', '144620', '7289', '103776']]\n",
      "Conversion Complete\n",
      "[63925]\n",
      "[123573]\n",
      "[69498]\n",
      "[78325]\n",
      "[36499]\n",
      "[35112]\n",
      "[65260]\n",
      "[83916]\n",
      "[108356]\n",
      "[148594]\n",
      "Question ID 2244: Match Found - True\n",
      "Question ID 55438: Match Found - False\n",
      "Question ID 74936: Match Found - True\n",
      "Question ID 99189: Match Found - False\n",
      "Question ID 60130: Match Found - False\n",
      "Question ID 78401: Match Found - True\n",
      "Question ID 112078: Match Found - True\n",
      "Question ID 90693: Match Found - True\n",
      "Question ID 146757: Match Found - True\n",
      "Question ID 77755: Match Found - False\n",
      "Verification complete. Results saved to 'verification_results.txt'.\n"
     ]
    }
   ],
   "source": [
    "# # Load the candidate list\n",
    "# import numpy as np\n",
    "# import json\n",
    "# import gdown\n",
    "\n",
    "# file_id = '1PaTajVGgFkYLP45UAmjWSgwL6Yi3-w7g'\n",
    "\n",
    "# # Tải file về\n",
    "# gdown.download(f'https://drive.google.com/uc?id={file_id}', 'data.json', quiet=False)\n",
    "\n",
    "# # Đọc dữ liệu từ file JSON\n",
    "# with open('data.json', 'r', encoding='utf-8') as f:\n",
    "#     json_data = json.load(f)\n",
    "\n",
    "# # Tạo từ điển ánh xạ stt -> infor_id\n",
    "# stt_to_infor_id = {item[\"stt\"]: item[\"infor_id\"] for item in json_data}\n",
    "\n",
    "# # Tải file .npy chứa top_candidates\n",
    "# candidate_list = np.load(\"candidate_list.npy\", allow_pickle=True)\n",
    "\n",
    "# # Chuyển top_candidates từ stt sang infor_id\n",
    "# candidate_infor_ids = []\n",
    "# for top_candidates in candidate_list:\n",
    "#     infor_ids = [stt_to_infor_id[stt] for stt in top_candidates]\n",
    "#     candidate_infor_ids.append(infor_ids)\n",
    "\n",
    "# # In ra kết quả\n",
    "# print(\"Converted Candidate List (infor_id):\", candidate_infor_ids)\n",
    "\n",
    "# # Lưu kết quả vào file .npy mới nếu cần\n",
    "# np.save(\"candidate_infor_ids.npy\", np.array(candidate_infor_ids, dtype=object))\n",
    "# print(\"Conversion Complete\")\n",
    "\n",
    "\n",
    "# candidate_list = np.load(\"candidate_infor_ids.npy\", allow_pickle=True)\n",
    "\n",
    "# # Verify the results\n",
    "# verification_results = []\n",
    "# for i, candidates in enumerate(candidate_list):\n",
    "#     # Get the actual `cid` values for the question\n",
    "#     actual_cids = result[qids[i]]\n",
    "#     print(actual_cids)\n",
    "#     # Check if any of the `actual_cids` are in the `candidates`\n",
    "#     match = any(str(cid) in candidates for cid in actual_cids)\n",
    "#     verification_results.append((qids[i], match))\n",
    "\n",
    "# # Print the verification results\n",
    "# for qid, match in verification_results:\n",
    "#     print(f\"Question ID {qid}: Match Found - {match}\")\n",
    "\n",
    "# # Save the verification results to a file\n",
    "# with open(\"verification_results.txt\", \"w\") as f:\n",
    "#     for qid, match in verification_results:\n",
    "#         f.write(f\"Question ID {qid}: Match Found - {match}\\n\")\n",
    "\n",
    "# print(\"Verification complete. Results saved to 'verification_results.txt'.\")\n"
   ]
  },
  {
   "cell_type": "code",
   "execution_count": null,
   "metadata": {
    "trusted": true
   },
   "outputs": [],
   "source": []
  }
 ],
 "metadata": {
  "kaggle": {
   "accelerator": "none",
   "dataSources": [],
   "dockerImageVersionId": 30804,
   "isGpuEnabled": false,
   "isInternetEnabled": true,
   "language": "python",
   "sourceType": "notebook"
  },
  "kernelspec": {
   "display_name": "Python 3",
   "language": "python",
   "name": "python3"
  },
  "language_info": {
   "codemirror_mode": {
    "name": "ipython",
    "version": 3
   },
   "file_extension": ".py",
   "mimetype": "text/x-python",
   "name": "python",
   "nbconvert_exporter": "python",
   "pygments_lexer": "ipython3",
   "version": "3.10.14"
  }
 },
 "nbformat": 4,
 "nbformat_minor": 4
}
