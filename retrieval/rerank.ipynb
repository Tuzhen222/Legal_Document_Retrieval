{
 "cells": [
  {
   "cell_type": "code",
   "execution_count": null,
   "metadata": {
    "execution": {
     "iopub.execute_input": "2024-12-22T14:21:37.766210Z",
     "iopub.status.busy": "2024-12-22T14:21:37.765792Z",
     "iopub.status.idle": "2024-12-22T14:21:37.770086Z",
     "shell.execute_reply": "2024-12-22T14:21:37.769246Z",
     "shell.execute_reply.started": "2024-12-22T14:21:37.766179Z"
    },
    "trusted": true
   },
   "outputs": [],
   "source": [
    "num = 2"
   ]
  },
  {
   "cell_type": "code",
   "execution_count": null,
   "metadata": {
    "execution": {
     "iopub.execute_input": "2024-12-22T14:21:37.948496Z",
     "iopub.status.busy": "2024-12-22T14:21:37.948198Z",
     "iopub.status.idle": "2024-12-22T14:22:24.571011Z",
     "shell.execute_reply": "2024-12-22T14:22:24.570095Z",
     "shell.execute_reply.started": "2024-12-22T14:21:37.948468Z"
    },
    "trusted": true
   },
   "outputs": [],
   "source": [
    "!pip install -U FlagEmbedding\n",
    "!pip install einops\n",
    "!pip install gdown"
   ]
  },
  {
   "cell_type": "code",
   "execution_count": null,
   "metadata": {
    "_cell_guid": "b1076dfc-b9ad-4769-8c92-a6c4dae69d19",
    "_uuid": "8f2839f25d086af736a60e9eeb907d3b93b6e0e5",
    "execution": {
     "iopub.execute_input": "2024-12-22T14:22:34.443651Z",
     "iopub.status.busy": "2024-12-22T14:22:34.443371Z",
     "iopub.status.idle": "2024-12-22T14:23:48.327370Z",
     "shell.execute_reply": "2024-12-22T14:23:48.326429Z",
     "shell.execute_reply.started": "2024-12-22T14:22:34.443625Z"
    },
    "trusted": true
   },
   "outputs": [],
   "source": [
    "from FlagEmbedding import FlagReranker\n",
    "reranker = FlagReranker('BAAI/bge-reranker-v2-m3', use_fp16=True)"
   ]
  },
  {
   "cell_type": "code",
   "execution_count": null,
   "metadata": {
    "execution": {
     "iopub.execute_input": "2024-12-22T14:25:03.966082Z",
     "iopub.status.busy": "2024-12-22T14:25:03.965361Z",
     "iopub.status.idle": "2024-12-22T14:25:06.359283Z",
     "shell.execute_reply": "2024-12-22T14:25:06.358307Z",
     "shell.execute_reply.started": "2024-12-22T14:25:03.966044Z"
    },
    "trusted": true
   },
   "outputs": [],
   "source": [
    "import pandas as pd\n",
    "\n",
    "data = pd.read_csv('/kaggle/input/test-dataa/test_data.csv') \n",
    "questions = data['question'].tolist()\n",
    "qids = data['qid'].tolist()\n"
   ]
  },
  {
   "cell_type": "code",
   "execution_count": null,
   "metadata": {
    "execution": {
     "iopub.execute_input": "2024-12-22T14:23:48.329499Z",
     "iopub.status.busy": "2024-12-22T14:23:48.328713Z",
     "iopub.status.idle": "2024-12-22T14:23:53.656013Z",
     "shell.execute_reply": "2024-12-22T14:23:53.655265Z",
     "shell.execute_reply.started": "2024-12-22T14:23:48.329458Z"
    },
    "trusted": true
   },
   "outputs": [],
   "source": [
    "import json\n",
    "with open('/kaggle/input/template/template_chunking_flat.json', 'r', encoding='utf-8') as f:\n",
    "    text_data = json.load(f)\n",
    "    \n",
    "text_dict = {str(item['stt']): item['text'] for item in text_data}\n",
    "stt_dict = {item['text']: item['stt'] for item in text_data}\n"
   ]
  },
  {
   "cell_type": "code",
   "execution_count": null,
   "metadata": {
    "execution": {
     "iopub.execute_input": "2024-12-22T14:25:07.297192Z",
     "iopub.status.busy": "2024-12-22T14:25:07.296535Z",
     "iopub.status.idle": "2024-12-22T14:25:10.414967Z",
     "shell.execute_reply": "2024-12-22T14:25:10.414131Z",
     "shell.execute_reply.started": "2024-12-22T14:25:07.297154Z"
    },
    "trusted": true
   },
   "outputs": [],
   "source": [
    "qid_id_data = []\n",
    "with open(f'/kaggle/input/data-phase-1/test/bge+e5/output_part_{num}.txt', 'r') as file:\n",
    "    for line in file:\n",
    "        qid_and_ids = line.strip().split()\n",
    "        qid = qid_and_ids[0]\n",
    "        ids = qid_and_ids[1:]\n",
    "\n",
    "        question = data[data['qid'] == int(qid)]['question'].values[0]\n",
    "\n",
    "        answers = [text_dict.get(id, '') for id in ids] \n",
    "        qid_id_data.append((qid, question, answers))\n"
   ]
  },
  {
   "cell_type": "code",
   "execution_count": null,
   "metadata": {
    "execution": {
     "iopub.execute_input": "2024-12-22T14:25:14.485634Z",
     "iopub.status.busy": "2024-12-22T14:25:14.484751Z",
     "iopub.status.idle": "2024-12-22T14:25:39.958069Z",
     "shell.execute_reply": "2024-12-22T14:25:39.956745Z",
     "shell.execute_reply.started": "2024-12-22T14:25:14.485596Z"
    },
    "trusted": true
   },
   "outputs": [],
   "source": [
    "from tqdm import tqdm\n",
    "\n",
    "rerank_results = []\n",
    "scores_results = []\n",
    "for qid, question, answers in tqdm(qid_id_data, desc=\"Processing QID data\"):\n",
    "    question_answer_pairs = [(question, answer) for answer in answers if answer]  \n",
    "\n",
    "    if not question_answer_pairs:\n",
    "        continue\n",
    "\n",
    "    pairs = [(question, answer) for question, answer in question_answer_pairs]\n",
    "    scores = reranker.compute_score(pairs, normalize=True)\n",
    "\n",
    "    ranked_answers = [(answer, score) for (answer, score) in zip(answers, scores)]\n",
    "    ranked_answers.sort(key=lambda x: x[1], reverse=True) \n",
    "\n",
    "    ranked_stts_scores = [(stt_dict[answer], score) for (answer, score) in ranked_answers]\n",
    "    rerank_results.append((qid, [stt for stt, _ in ranked_stts_scores]))  \n",
    "    scores_results.append((qid, [score for _, score in ranked_stts_scores]))  \n",
    "\n",
    "with open(f'reranked_output{num}.txt', 'w') as f:\n",
    "    for qid, ranked_stts in tqdm(rerank_results, desc=\"Writing STT results to file\"):\n",
    "        result_line = f\"{qid} \" + \" \".join(map(str, ranked_stts))\n",
    "        f.write(result_line + \"\\n\")\n",
    "\n",
    "with open(f'reranked_scores{num}.txt', 'w') as f:\n",
    "    for qid, scores in tqdm(scores_results, desc=\"Writing Scores to file\"):\n",
    "        result_line = f\"{qid} \" + \" \".join(f\"{score:.4f}\" for score in scores)\n",
    "        f.write(result_line + \"\\n\")\n"
   ]
  },
  {
   "cell_type": "code",
   "execution_count": null,
   "metadata": {
    "execution": {
     "iopub.execute_input": "2024-12-14T05:47:18.096207Z",
     "iopub.status.busy": "2024-12-14T05:47:18.095931Z",
     "iopub.status.idle": "2024-12-14T05:47:22.719595Z",
     "shell.execute_reply": "2024-12-14T05:47:22.718816Z",
     "shell.execute_reply.started": "2024-12-14T05:47:18.096181Z"
    },
    "trusted": true
   },
   "outputs": [],
   "source": [
    "with open('/kaggle/input/template/template_chunking_flat.json', 'r', encoding='utf-8') as f:\n",
    "    json_data = json.load(f)\n",
    "\n",
    "stt_to_infor_id = {str(item['stt']): int(item['infor_id']) for item in json_data}\n",
    "\n",
    "reranked_results = []\n",
    "with open('reranked_output.txt', 'r', encoding='utf-8') as f:\n",
    "    for line in f:\n",
    "        parts = line.strip().split()\n",
    "        if not parts:\n",
    "            continue\n",
    "        qid = parts[0]\n",
    "        ids = parts[1:]\n",
    "        top_10_ids = ids[:10]\n",
    "        infor_ids = [stt_to_infor_id.get(i, i) for i in top_10_ids]\n",
    "        reranked_results.append(f\"{qid} \" + \" \".join(map(str, infor_ids)))\n",
    "\n",
    "with open(f'reranked_infor_output_part{num}.txt', 'w', encoding='utf-8') as f:\n",
    "    for result in reranked_results:\n",
    "        f.write(result + \"\\n\")"
   ]
  },
  {
   "cell_type": "code",
   "execution_count": null,
   "metadata": {
    "execution": {
     "iopub.execute_input": "2024-12-14T05:47:22.720973Z",
     "iopub.status.busy": "2024-12-14T05:47:22.720692Z",
     "iopub.status.idle": "2024-12-14T05:47:22.727465Z",
     "shell.execute_reply": "2024-12-14T05:47:22.726594Z",
     "shell.execute_reply.started": "2024-12-14T05:47:22.720947Z"
    },
    "trusted": true
   },
   "outputs": [],
   "source": [
    "import zipfile\n",
    "\n",
    "input_file = f'reranked_infor_output_part{num}.txt'  \n",
    "output_zip_file = f'reranked_infor_output_part{num}.zip'  \n",
    "\n",
    "with zipfile.ZipFile(output_zip_file, 'w', zipfile.ZIP_DEFLATED) as zipf:\n",
    "    zipf.write(input_file, arcname=input_file.split('/')[-1])  \n",
    "\n",
    "print(f\"Đã nén file {input_file} thành {output_zip_file}\")\n"
   ]
  }
 ],
 "metadata": {
  "kaggle": {
   "accelerator": "none",
   "dataSources": [
    {
     "datasetId": 6475501,
     "sourceId": 10459894,
     "sourceType": "datasetVersion"
    },
    {
     "datasetId": 6475518,
     "sourceId": 10459916,
     "sourceType": "datasetVersion"
    },
    {
     "datasetId": 6509133,
     "sourceId": 10515950,
     "sourceType": "datasetVersion"
    },
    {
     "datasetId": 6509420,
     "sourceId": 10516385,
     "sourceType": "datasetVersion"
    }
   ],
   "dockerImageVersionId": 30805,
   "isGpuEnabled": false,
   "isInternetEnabled": true,
   "language": "python",
   "sourceType": "notebook"
  },
  "kernelspec": {
   "display_name": "Python 3",
   "language": "python",
   "name": "python3"
  },
  "language_info": {
   "codemirror_mode": {
    "name": "ipython",
    "version": 3
   },
   "file_extension": ".py",
   "mimetype": "text/x-python",
   "name": "python",
   "nbconvert_exporter": "python",
   "pygments_lexer": "ipython3",
   "version": "3.10.14"
  }
 },
 "nbformat": 4,
 "nbformat_minor": 4
}
