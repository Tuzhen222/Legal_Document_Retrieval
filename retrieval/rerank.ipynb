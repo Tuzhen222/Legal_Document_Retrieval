{
 "cells": [
  {
   "cell_type": "code",
   "execution_count": null,
   "metadata": {
    "execution": {
     "iopub.execute_input": "2024-12-16T18:02:02.102251Z",
     "iopub.status.busy": "2024-12-16T18:02:02.101423Z",
     "iopub.status.idle": "2024-12-16T18:02:02.106923Z",
     "shell.execute_reply": "2024-12-16T18:02:02.105473Z",
     "shell.execute_reply.started": "2024-12-16T18:02:02.102205Z"
    },
    "trusted": true
   },
   "outputs": [],
   "source": [
    "num = 1"
   ]
  },
  {
   "cell_type": "code",
   "execution_count": null,
   "metadata": {
    "execution": {
     "iopub.execute_input": "2024-12-16T18:02:02.301932Z",
     "iopub.status.busy": "2024-12-16T18:02:02.301131Z",
     "iopub.status.idle": "2024-12-16T18:02:49.383416Z",
     "shell.execute_reply": "2024-12-16T18:02:49.382551Z",
     "shell.execute_reply.started": "2024-12-16T18:02:02.301896Z"
    },
    "trusted": true
   },
   "outputs": [],
   "source": [
    "!pip install -U FlagEmbedding\n",
    "!pip install einops\n",
    "!pip install gdown"
   ]
  },
  {
   "cell_type": "code",
   "execution_count": null,
   "metadata": {
    "execution": {
     "iopub.execute_input": "2024-12-16T18:02:49.386442Z",
     "iopub.status.busy": "2024-12-16T18:02:49.385779Z",
     "iopub.status.idle": "2024-12-16T18:02:52.955465Z",
     "shell.execute_reply": "2024-12-16T18:02:52.954638Z",
     "shell.execute_reply.started": "2024-12-16T18:02:49.386396Z"
    },
    "trusted": true
   },
   "outputs": [],
   "source": [
    "import gdown\n",
    "import zipfile\n",
    "import os\n",
    "\n",
    "# 1. Tải file .zip từ Google Drive\n",
    "url = 'https://drive.google.com/uc?id=1pTDobti0RqdEJpmrboLSsz-JKtyO8Da2'  # Thay bằng ID của file zip\n",
    "output_zip = 'bi_encoder_search.zip'  # Đặt tên file .zip sau khi tải về\n",
    "\n",
    "# Tải file .zip\n",
    "gdown.download(url, output_zip, quiet=False)\n",
    "\n",
    "# 2. Giải nén file .zip\n",
    "with zipfile.ZipFile(output_zip, 'r') as zip_ref:\n",
    "    zip_ref.extractall('extracted_files')  # Thư mục để giải nén (nếu không tồn tại, nó sẽ tự tạo)\n",
    "\n",
    "# Kiểm tra kết quả\n",
    "print(\"File đã được giải nén vào thư mục 'extracted_files'\")\n"
   ]
  },
  {
   "cell_type": "code",
   "execution_count": null,
   "metadata": {
    "execution": {
     "iopub.execute_input": "2024-12-16T18:02:52.957543Z",
     "iopub.status.busy": "2024-12-16T18:02:52.956763Z",
     "iopub.status.idle": "2024-12-16T18:02:58.934629Z",
     "shell.execute_reply": "2024-12-16T18:02:58.933774Z",
     "shell.execute_reply.started": "2024-12-16T18:02:52.957476Z"
    },
    "trusted": true
   },
   "outputs": [],
   "source": [
    "import gdown\n",
    "\n",
    "# URL tải file từ Google Drive\n",
    "url = 'https://drive.google.com/uc?id=1PaTajVGgFkYLP45UAmjWSgwL6Yi3-w7g'\n",
    "output = '/kaggle/working/template_chunking_flat.json'  # Đặt tên file bạn muốn lưu\n",
    "gdown.download(url, output, quiet=False)"
   ]
  },
  {
   "cell_type": "code",
   "execution_count": null,
   "metadata": {
    "execution": {
     "iopub.execute_input": "2024-12-16T18:02:58.936599Z",
     "iopub.status.busy": "2024-12-16T18:02:58.936302Z",
     "iopub.status.idle": "2024-12-16T18:03:04.430719Z",
     "shell.execute_reply": "2024-12-16T18:03:04.429896Z",
     "shell.execute_reply.started": "2024-12-16T18:02:58.936568Z"
    },
    "trusted": true
   },
   "outputs": [],
   "source": [
    "import gdown\n",
    "\n",
    "# URL tải file từ Google Drive\n",
    "url = 'https://drive.google.com/uc?id=1wy8i6qAVWgvD4vzyyY7_3_0aj0J4gz5z' \n",
    "csv = '/kaggle/working/test_data.csv'  \n",
    "\n",
    "# Tải file .json\n",
    "gdown.download(url, csv, quiet=False)\n",
    "\n",
    "print(\"File JSON đã được tải xuống.\")\n"
   ]
  },
  {
   "cell_type": "code",
   "execution_count": null,
   "metadata": {
    "_cell_guid": "b1076dfc-b9ad-4769-8c92-a6c4dae69d19",
    "_uuid": "8f2839f25d086af736a60e9eeb907d3b93b6e0e5",
    "execution": {
     "iopub.execute_input": "2024-12-16T18:03:04.432072Z",
     "iopub.status.busy": "2024-12-16T18:03:04.431807Z",
     "iopub.status.idle": "2024-12-16T18:04:18.497514Z",
     "shell.execute_reply": "2024-12-16T18:04:18.496779Z",
     "shell.execute_reply.started": "2024-12-16T18:03:04.432047Z"
    },
    "trusted": true
   },
   "outputs": [],
   "source": [
    "from FlagEmbedding import FlagReranker\n",
    "reranker = FlagReranker('BAAI/bge-reranker-v2-m3', use_fp16=True)"
   ]
  },
  {
   "cell_type": "code",
   "execution_count": null,
   "metadata": {
    "execution": {
     "iopub.execute_input": "2024-12-16T18:04:18.499195Z",
     "iopub.status.busy": "2024-12-16T18:04:18.498613Z",
     "iopub.status.idle": "2024-12-16T18:04:18.917603Z",
     "shell.execute_reply": "2024-12-16T18:04:18.916818Z",
     "shell.execute_reply.started": "2024-12-16T18:04:18.499167Z"
    },
    "trusted": true
   },
   "outputs": [],
   "source": [
    "#load test_data\n",
    "import pandas as pd\n",
    "\n",
    "data = pd.read_csv('/kaggle/working/test_data.csv') \n",
    "questions = data['question'].tolist()\n",
    "qids = data['qid'].tolist()\n"
   ]
  },
  {
   "cell_type": "code",
   "execution_count": null,
   "metadata": {
    "execution": {
     "iopub.execute_input": "2024-12-16T18:04:18.918795Z",
     "iopub.status.busy": "2024-12-16T18:04:18.918540Z",
     "iopub.status.idle": "2024-12-16T18:04:27.819500Z",
     "shell.execute_reply": "2024-12-16T18:04:27.818537Z",
     "shell.execute_reply.started": "2024-12-16T18:04:18.918769Z"
    },
    "trusted": true
   },
   "outputs": [],
   "source": [
    "import json\n",
    "\n",
    "\n",
    "# Load the text data\n",
    "with open('/kaggle/working/template_chunking_flat.json', 'r', encoding='utf-8') as f:\n",
    "    text_data = json.load(f)\n",
    "    \n",
    "# Tải file\n",
    "text_dict = {str(item['stt']): item['text'] for item in text_data}\n",
    "stt_dict = {item['text']: item['stt'] for item in text_data}\n"
   ]
  },
  {
   "cell_type": "code",
   "execution_count": null,
   "metadata": {
    "execution": {
     "iopub.execute_input": "2024-12-16T18:04:27.820960Z",
     "iopub.status.busy": "2024-12-16T18:04:27.820685Z",
     "iopub.status.idle": "2024-12-16T18:04:28.464408Z",
     "shell.execute_reply": "2024-12-16T18:04:28.463713Z",
     "shell.execute_reply.started": "2024-12-16T18:04:27.820935Z"
    },
    "trusted": true
   },
   "outputs": [],
   "source": [
    "# Load the qid and ids data\n",
    "qid_id_data = []\n",
    "with open(f'/kaggle/working/extracted_files/output_part_{num}.txt', 'r') as file:\n",
    "    for line in file:\n",
    "        qid_and_ids = line.strip().split()\n",
    "        qid = qid_and_ids[0]\n",
    "        ids = qid_and_ids[1:]\n",
    "\n",
    "        question = data[data['qid'] == int(qid)]['question'].values[0]\n",
    "\n",
    "        answers = [text_dict.get(id, '') for id in ids] \n",
    "        qid_id_data.append((qid, question, answers))\n"
   ]
  },
  {
   "cell_type": "code",
   "execution_count": null,
   "metadata": {
    "execution": {
     "iopub.execute_input": "2024-12-16T18:04:28.465632Z",
     "iopub.status.busy": "2024-12-16T18:04:28.465392Z",
     "iopub.status.idle": "2024-12-16T18:04:39.635783Z",
     "shell.execute_reply": "2024-12-16T18:04:39.634536Z",
     "shell.execute_reply.started": "2024-12-16T18:04:28.465608Z"
    },
    "trusted": true
   },
   "outputs": [],
   "source": [
    "from tqdm import tqdm\n",
    "\n",
    "# Rerank the answers\n",
    "rerank_results = []\n",
    "for qid, question, answers in tqdm(qid_id_data, desc=\"Processing QID data\"):\n",
    "    # Create question-answer pairs\n",
    "    question_answer_pairs = [(question, answer) for answer in answers if answer]  # Filter out empty answers\n",
    "\n",
    "    # Skip if no valid answers\n",
    "    if not question_answer_pairs:\n",
    "        continue\n",
    "\n",
    "    # Compute similarity scores\n",
    "    pairs = [(question, answer) for question, answer in question_answer_pairs]\n",
    "    scores = reranker.compute_score(pairs, normalize=True)\n",
    "\n",
    "    # Rank the answers based on similarity scores\n",
    "    ranked_answers = [(answer, score) for (answer, score) in zip(answers, scores)]\n",
    "    ranked_answers.sort(key=lambda x: x[1], reverse=True)  # Sort by similarity score in descending order\n",
    "\n",
    "    # Append the ranked answers with their corresponding stt values\n",
    "    ranked_stts = [stt_dict[answer] for answer, _ in ranked_answers]\n",
    "    rerank_results.append((qid, ranked_stts))  # Save the sorted stt values\n",
    "\n",
    "# Save the reranked results to a file\n",
    "with open('reranked_output.txt', 'w') as f:\n",
    "    for qid, ranked_stts in tqdm(rerank_results, desc=\"Writing results to file\"):\n",
    "        # Create the result line for each qid\n",
    "        result_line = f\"{qid} \" + \" \".join(map(str, ranked_stts))  # Combine qid and stt values\n",
    "        f.write(result_line + \"\\n\")"
   ]
  },
  {
   "cell_type": "code",
   "execution_count": null,
   "metadata": {
    "execution": {
     "iopub.status.busy": "2024-12-16T18:04:39.636765Z",
     "iopub.status.idle": "2024-12-16T18:04:39.637106Z",
     "shell.execute_reply": "2024-12-16T18:04:39.636969Z",
     "shell.execute_reply.started": "2024-12-16T18:04:39.636952Z"
    },
    "trusted": true
   },
   "outputs": [],
   "source": [
    "import json\n",
    "\n",
    "# Đọc file JSON chứa thông tin\n",
    "with open('/kaggle/working/template_chunking_flat.json', 'r', encoding='utf-8') as f:\n",
    "    json_data = json.load(f)\n",
    "\n",
    "# Tạo một từ điển để tra cứu stt -> infor_id\n",
    "stt_to_infor_id = {str(item['stt']): int(item['infor_id']) for item in json_data}\n",
    "\n",
    "# Đọc file reranked_output.txt và thay thế id bằng infor_id (kiểu int)\n",
    "reranked_results = []\n",
    "with open('reranked_output.txt', 'r', encoding='utf-8') as f:\n",
    "    for line in f:\n",
    "        parts = line.strip().split()\n",
    "        if not parts:\n",
    "            continue\n",
    "        qid = parts[0]\n",
    "        ids = parts[1:]\n",
    "        # Chỉ lấy top 10 IDs\n",
    "        top_10_ids = ids[:10]\n",
    "        # Thay thế id bằng infor_id và đảm bảo infor_id là int\n",
    "        infor_ids = [stt_to_infor_id.get(i, i) for i in top_10_ids]\n",
    "        reranked_results.append(f\"{qid} \" + \" \".join(map(str, infor_ids)))\n",
    "\n",
    "with open(f'reranked_infor_output_part{num}.txt', 'w', encoding='utf-8') as f:\n",
    "    for result in reranked_results:\n",
    "        f.write(result + \"\\n\")"
   ]
  },
  {
   "cell_type": "code",
   "execution_count": null,
   "metadata": {
    "execution": {
     "iopub.status.busy": "2024-12-16T18:04:39.638092Z",
     "iopub.status.idle": "2024-12-16T18:04:39.638389Z",
     "shell.execute_reply": "2024-12-16T18:04:39.638255Z",
     "shell.execute_reply.started": "2024-12-16T18:04:39.638240Z"
    },
    "trusted": true
   },
   "outputs": [],
   "source": [
    "import zipfile\n",
    "\n",
    "# Đặt tên file đầu vào và đầu ra\n",
    "input_file = f'reranked_infor_output_part{num}.txt'  # Thay bằng tên file của bạn\n",
    "output_zip_file = f'reranked_infor_output_part{num}.zip'  # Tên file zip đầu ra\n",
    "\n",
    "# Nén file .txt vào .zip\n",
    "with zipfile.ZipFile(output_zip_file, 'w', zipfile.ZIP_DEFLATED) as zipf:\n",
    "    zipf.write(input_file, arcname=input_file.split('/')[-1])  # Đặt tên file trong zip\n",
    "\n",
    "print(f\"Đã nén file {input_file} thành {output_zip_file}\")\n"
   ]
  },
  {
   "cell_type": "code",
   "execution_count": null,
   "metadata": {
    "trusted": true
   },
   "outputs": [],
   "source": []
  }
 ],
 "metadata": {
  "kaggle": {
   "accelerator": "gpu",
   "dataSources": [],
   "dockerImageVersionId": 30805,
   "isGpuEnabled": true,
   "isInternetEnabled": true,
   "language": "python",
   "sourceType": "notebook"
  },
  "kernelspec": {
   "display_name": "Python 3",
   "language": "python",
   "name": "python3"
  },
  "language_info": {
   "codemirror_mode": {
    "name": "ipython",
    "version": 3
   },
   "file_extension": ".py",
   "mimetype": "text/x-python",
   "name": "python",
   "nbconvert_exporter": "python",
   "pygments_lexer": "ipython3",
   "version": "3.10.14"
  }
 },
 "nbformat": 4,
 "nbformat_minor": 4
}
