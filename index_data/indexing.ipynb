{
 "cells": [
  {
   "cell_type": "code",
   "execution_count": null,
   "metadata": {
    "execution": {
     "iopub.execute_input": "2024-12-17T17:13:55.443990Z",
     "iopub.status.busy": "2024-12-17T17:13:55.443411Z",
     "iopub.status.idle": "2024-12-17T17:14:25.119276Z",
     "shell.execute_reply": "2024-12-17T17:14:25.118232Z",
     "shell.execute_reply.started": "2024-12-17T17:13:55.443960Z"
    },
    "trusted": true
   },
   "outputs": [],
   "source": [
    "!pip install faiss-gpu\n",
    "!pip install sentence_transformers\n",
    "!pip install gdown"
   ]
  },
  {
   "cell_type": "code",
   "execution_count": null,
   "metadata": {},
   "outputs": [],
   "source": [
    "model_name = \"/kaggle/input/checkpoint-10400/checkpoint-10400\""
   ]
  },
  {
   "cell_type": "code",
   "execution_count": null,
   "metadata": {
    "execution": {
     "iopub.execute_input": "2024-12-17T17:19:42.232901Z",
     "iopub.status.busy": "2024-12-17T17:19:42.232600Z",
     "iopub.status.idle": "2024-12-17T17:20:06.918721Z",
     "shell.execute_reply": "2024-12-17T17:20:06.917648Z",
     "shell.execute_reply.started": "2024-12-17T17:19:42.232872Z"
    },
    "trusted": true
   },
   "outputs": [],
   "source": [
    "import gdown\n",
    "gdown.download( \"https://drive.google.com/uc?id=1_1tBqaJBGLALkpSAOmyJvvwE-QqiyRgxcw\",  \"/kaggle/working/template_chunking_flat.json\", quiet=False)"
   ]
  },
  {
   "cell_type": "code",
   "execution_count": null,
   "metadata": {
    "_cell_guid": "b1076dfc-b9ad-4769-8c92-a6c4dae69d19",
    "_uuid": "8f2839f25d086af736a60e9eeb907d3b93b6e0e5",
    "execution": {
     "iopub.execute_input": "2024-12-17T17:24:34.449786Z",
     "iopub.status.busy": "2024-12-17T17:24:34.449135Z",
     "iopub.status.idle": "2024-12-17T17:24:41.894537Z",
     "shell.execute_reply": "2024-12-17T17:24:41.893819Z",
     "shell.execute_reply.started": "2024-12-17T17:24:34.449753Z"
    },
    "trusted": true
   },
   "outputs": [],
   "source": [
    "import faiss\n",
    "import numpy as np\n",
    "import json\n",
    "from tqdm import tqdm\n",
    "from sentence_transformers import SentenceTransformer\n",
    "\n",
    "class EmbeddingModel:\n",
    "    def __init__(self, model_name):\n",
    "        self.model = self.load_model(model_name)\n",
    "\n",
    "    def load_model(self, model_name):\n",
    "        model = SentenceTransformer(model_name)\n",
    "        return model\n",
    "\n",
    "    def encode_embeddings(self, texts, batch_size=32):\n",
    "        embeddings = []\n",
    "\n",
    "        for i in tqdm(range(0, len(texts), batch_size), desc=\"Encoding batches\"):\n",
    "            batch = texts[i:i+batch_size]\n",
    "            batch_embeddings = self.model.encode(batch, convert_to_numpy=True)\n",
    "            embeddings.append(batch_embeddings)\n",
    "\n",
    "        dense_embeddings = np.vstack(embeddings)\n",
    "\n",
    "        return dense_embeddings\n",
    "\n",
    "def read_json_file(file_path):\n",
    "    with open(file_path, 'r', encoding='utf-8') as file:\n",
    "        json_data = json.load(file)\n",
    "    return json_data\n",
    "\n",
    "file_path = '/kaggle/working/template_chunking_flat.json' \n",
    "json_data = read_json_file(file_path)\n",
    "\n",
    "texts = [entry[\"text\"] for entry in json_data]\n",
    "embedding_model = EmbeddingModel(model_name)\n",
    "dense_embeddings = embedding_model.encode_embeddings(texts, batch_size=256)\n",
    "embedding_dim = dense_embeddings.shape[1]  \n",
    "index = faiss.IndexFlatIP(embedding_dim)\n",
    "\n",
    "index.add(dense_embeddings)\n",
    "\n",
    "faiss.write_index(index, 'bge_m3_23400.bin')\n",
    "\n",
    "print(\"FAISS index saved to 'bge_m3.bin'\")\n",
    "\n"
   ]
  }
 ],
 "metadata": {
  "kaggle": {
   "accelerator": "gpu",
   "dataSources": [
    {
     "datasetId": 6278299,
     "sourceId": 10166631,
     "sourceType": "datasetVersion"
    },
    {
     "datasetId": 6325521,
     "sourceId": 10230604,
     "sourceType": "datasetVersion"
    }
   ],
   "dockerImageVersionId": 30805,
   "isGpuEnabled": true,
   "isInternetEnabled": true,
   "language": "python",
   "sourceType": "notebook"
  },
  "kernelspec": {
   "display_name": "Python 3",
   "language": "python",
   "name": "python3"
  },
  "language_info": {
   "codemirror_mode": {
    "name": "ipython",
    "version": 3
   },
   "file_extension": ".py",
   "mimetype": "text/x-python",
   "name": "python",
   "nbconvert_exporter": "python",
   "pygments_lexer": "ipython3",
   "version": "3.10.14"
  }
 },
 "nbformat": 4,
 "nbformat_minor": 4
}
