{
 "cells": [
  {
   "cell_type": "code",
   "execution_count": null,
   "metadata": {
    "trusted": true
   },
   "outputs": [],
   "source": [
    "num = 1  \n"
   ]
  },
  {
   "cell_type": "code",
   "execution_count": 6,
   "metadata": {
    "execution": {
     "iopub.execute_input": "2024-12-14T06:23:32.568076Z",
     "iopub.status.busy": "2024-12-14T06:23:32.567692Z",
     "iopub.status.idle": "2024-12-14T06:24:02.650543Z",
     "shell.execute_reply": "2024-12-14T06:24:02.649311Z",
     "shell.execute_reply.started": "2024-12-14T06:23:32.568044Z"
    },
    "trusted": true
   },
   "outputs": [
    {
     "name": "stdout",
     "output_type": "stream",
     "text": [
      "Requirement already satisfied: rank_bm25 in /opt/conda/lib/python3.10/site-packages (0.2.2)\n",
      "Requirement already satisfied: numpy in /opt/conda/lib/python3.10/site-packages (from rank_bm25) (1.26.4)\n",
      "Requirement already satisfied: underthesea in /opt/conda/lib/python3.10/site-packages (6.8.4)\n",
      "Requirement already satisfied: Click>=6.0 in /opt/conda/lib/python3.10/site-packages (from underthesea) (8.1.7)\n",
      "Requirement already satisfied: python-crfsuite>=0.9.6 in /opt/conda/lib/python3.10/site-packages (from underthesea) (0.9.11)\n",
      "Requirement already satisfied: nltk in /opt/conda/lib/python3.10/site-packages (from underthesea) (3.2.4)\n",
      "Requirement already satisfied: tqdm in /opt/conda/lib/python3.10/site-packages (from underthesea) (4.66.4)\n",
      "Requirement already satisfied: requests in /opt/conda/lib/python3.10/site-packages (from underthesea) (2.32.3)\n",
      "Requirement already satisfied: joblib in /opt/conda/lib/python3.10/site-packages (from underthesea) (1.4.2)\n",
      "Requirement already satisfied: scikit-learn in /opt/conda/lib/python3.10/site-packages (from underthesea) (1.2.2)\n",
      "Requirement already satisfied: PyYAML in /opt/conda/lib/python3.10/site-packages (from underthesea) (6.0.2)\n",
      "Requirement already satisfied: underthesea-core==1.0.4 in /opt/conda/lib/python3.10/site-packages (from underthesea) (1.0.4)\n",
      "Requirement already satisfied: six in /opt/conda/lib/python3.10/site-packages (from nltk->underthesea) (1.16.0)\n",
      "Requirement already satisfied: charset-normalizer<4,>=2 in /opt/conda/lib/python3.10/site-packages (from requests->underthesea) (3.3.2)\n",
      "Requirement already satisfied: idna<4,>=2.5 in /opt/conda/lib/python3.10/site-packages (from requests->underthesea) (3.7)\n",
      "Requirement already satisfied: urllib3<3,>=1.21.1 in /opt/conda/lib/python3.10/site-packages (from requests->underthesea) (1.26.18)\n",
      "Requirement already satisfied: certifi>=2017.4.17 in /opt/conda/lib/python3.10/site-packages (from requests->underthesea) (2024.6.2)\n",
      "Requirement already satisfied: numpy>=1.17.3 in /opt/conda/lib/python3.10/site-packages (from scikit-learn->underthesea) (1.26.4)\n",
      "Requirement already satisfied: scipy>=1.3.2 in /opt/conda/lib/python3.10/site-packages (from scikit-learn->underthesea) (1.14.1)\n",
      "Requirement already satisfied: threadpoolctl>=2.0.0 in /opt/conda/lib/python3.10/site-packages (from scikit-learn->underthesea) (3.5.0)\n",
      "Collecting gdown\n",
      "  Downloading gdown-5.2.0-py3-none-any.whl.metadata (5.8 kB)\n",
      "Requirement already satisfied: beautifulsoup4 in /opt/conda/lib/python3.10/site-packages (from gdown) (4.12.3)\n",
      "Requirement already satisfied: filelock in /opt/conda/lib/python3.10/site-packages (from gdown) (3.15.1)\n",
      "Requirement already satisfied: requests[socks] in /opt/conda/lib/python3.10/site-packages (from gdown) (2.32.3)\n",
      "Requirement already satisfied: tqdm in /opt/conda/lib/python3.10/site-packages (from gdown) (4.66.4)\n",
      "Requirement already satisfied: soupsieve>1.2 in /opt/conda/lib/python3.10/site-packages (from beautifulsoup4->gdown) (2.5)\n",
      "Requirement already satisfied: charset-normalizer<4,>=2 in /opt/conda/lib/python3.10/site-packages (from requests[socks]->gdown) (3.3.2)\n",
      "Requirement already satisfied: idna<4,>=2.5 in /opt/conda/lib/python3.10/site-packages (from requests[socks]->gdown) (3.7)\n",
      "Requirement already satisfied: urllib3<3,>=1.21.1 in /opt/conda/lib/python3.10/site-packages (from requests[socks]->gdown) (1.26.18)\n",
      "Requirement already satisfied: certifi>=2017.4.17 in /opt/conda/lib/python3.10/site-packages (from requests[socks]->gdown) (2024.6.2)\n",
      "Requirement already satisfied: PySocks!=1.5.7,>=1.5.6 in /opt/conda/lib/python3.10/site-packages (from requests[socks]->gdown) (1.7.1)\n",
      "Downloading gdown-5.2.0-py3-none-any.whl (18 kB)\n",
      "Installing collected packages: gdown\n",
      "Successfully installed gdown-5.2.0\n"
     ]
    }
   ],
   "source": [
    "!pip install rank_bm25\n",
    "!pip install underthesea\n",
    "!pip install gdown"
   ]
  },
  {
   "cell_type": "code",
   "execution_count": 14,
   "metadata": {
    "execution": {
     "iopub.execute_input": "2024-12-14T07:16:19.626015Z",
     "iopub.status.busy": "2024-12-14T07:16:19.625597Z",
     "iopub.status.idle": "2024-12-14T07:16:35.987906Z",
     "shell.execute_reply": "2024-12-14T07:16:35.986695Z",
     "shell.execute_reply.started": "2024-12-14T07:16:19.625981Z"
    },
    "trusted": true
   },
   "outputs": [
    {
     "name": "stderr",
     "output_type": "stream",
     "text": [
      "Downloading...\n",
      "From (original): https://drive.google.com/uc?id=1hUPYt7_8J6MtuyIo60Dv4MCZ04IBBrq3\n",
      "From (redirected): https://drive.google.com/uc?id=1hUPYt7_8J6MtuyIo60Dv4MCZ04IBBrq3&confirm=t&uuid=19c34947-a38c-4ce4-9aaa-2e866ee5bbaf\n",
      "To: /kaggle/working/question_answer.json\n",
      "100%|██████████| 132M/132M [00:00<00:00, 168MB/s] \n",
      "Downloading...\n",
      "From (original): https://drive.google.com/uc?id=1AhEOx0cvq7zL67sHgApD_3ji40zNSxIT\n",
      "From (redirected): https://drive.google.com/uc?id=1AhEOx0cvq7zL67sHgApD_3ji40zNSxIT&confirm=t&uuid=2e9e04b0-46de-4c67-9f06-53016de4d3a4\n",
      "To: /kaggle/working/legal_dict.json\n",
      "100%|██████████| 395M/395M [00:02<00:00, 189MB/s]  \n",
      "Downloading...\n",
      "From (original): https://drive.google.com/uc?id=1uutCAEumawSqFMRD292n4cYNxqZJNPMf\n",
      "From (redirected): https://drive.google.com/uc?id=1uutCAEumawSqFMRD292n4cYNxqZJNPMf&confirm=t&uuid=7378483f-b2c1-476f-aa38-fb51f3c6c6d0\n",
      "To: /kaggle/working/bm25_model.pkl\n",
      "100%|██████████| 232M/232M [00:01<00:00, 220MB/s] \n"
     ]
    },
    {
     "data": {
      "text/plain": [
       "'bm25_model.pkl'"
      ]
     },
     "execution_count": 14,
     "metadata": {},
     "output_type": "execute_result"
    }
   ],
   "source": [
    "import gdown\n",
    "\n",
    "file_id1 = '1hUPYt7_8J6MtuyIo60Dv4MCZ04IBBrq3'\n",
    "file_id2 = '1AhEOx0cvq7zL67sHgApD_3ji40zNSxIT'\n",
    "file_id3 = '1uutCAEumawSqFMRD292n4cYNxqZJNPMf'\n",
    "\n",
    "url1 = f'https://drive.google.com/uc?id={file_id1}'\n",
    "url2 = f'https://drive.google.com/uc?id={file_id2}'\n",
    "url3 = f'https://drive.google.com/uc?id={file_id3}'\n",
    "\n",
    "output1 = 'question_answer.json'\n",
    "output2 = 'legal_dict.json'\n",
    "output3 = 'bm25_model.pkl'\n",
    "\n",
    "gdown.download(url1, output1, quiet=False)\n",
    "gdown.download(url2, output2, quiet=False)\n",
    "gdown.download(url3, output3, quiet=False)\n"
   ]
  },
  {
   "cell_type": "code",
   "execution_count": 15,
   "metadata": {
    "execution": {
     "iopub.execute_input": "2024-12-14T07:16:35.990490Z",
     "iopub.status.busy": "2024-12-14T07:16:35.990030Z",
     "iopub.status.idle": "2024-12-14T07:16:35.996183Z",
     "shell.execute_reply": "2024-12-14T07:16:35.994972Z",
     "shell.execute_reply.started": "2024-12-14T07:16:35.990421Z"
    },
    "trusted": true
   },
   "outputs": [],
   "source": [
    "import json\n",
    "import csv\n",
    "import string\n",
    "import pickle\n",
    "import numpy as np\n",
    "from tqdm import tqdm\n",
    "from rank_bm25 import BM25Okapi\n",
    "from underthesea import word_tokenize"
   ]
  },
  {
   "cell_type": "code",
   "execution_count": 16,
   "metadata": {
    "execution": {
     "iopub.execute_input": "2024-12-14T07:16:35.997861Z",
     "iopub.status.busy": "2024-12-14T07:16:35.997408Z",
     "iopub.status.idle": "2024-12-14T07:16:36.012222Z",
     "shell.execute_reply": "2024-12-14T07:16:36.011101Z",
     "shell.execute_reply.started": "2024-12-14T07:16:35.997818Z"
    },
    "trusted": true
   },
   "outputs": [],
   "source": [
    "\n",
    "number = [\"1\", \"2\", \"3\", \"4\", \"5\", \"6\", \"7\", \"8\", \"9\", \"10\"]\n",
    "chars = [\"a\", \"b\", \"c\", \"d\", \"đ\", \"e\", \"f\", \"g\", \"h\", \"i\", \"j\", \"k\", \"l\", \"m\", \"n\", \"o\"]\n",
    "stop_word = number + chars + [\"của\", \"và\", \"các\", \"có\", \"được\", \"theo\", \"tại\", \"trong\", \"về\", \n",
    "            \"hoặc\", \"người\",  \"này\", \"khoản\", \"cho\", \"không\", \"từ\", \"phải\", \n",
    "            \"ngày\", \"việc\", \"sau\",  \"để\",  \"đến\", \"bộ\",  \"với\", \"là\", \"năm\", \n",
    "            \"khi\", \"số\", \"trên\", \"khác\", \"đã\", \"thì\", \"thuộc\", \"điểm\", \"đồng\",\n",
    "            \"do\", \"một\", \"bị\", \"vào\", \"lại\", \"ở\", \"nếu\", \"làm\", \"đây\", \n",
    "            \"như\", \"đó\", \"mà\", \"nơi\", \"”\", \"“\"]\n",
    "\n",
    "def remove_stopword(w):\n",
    "    return w not in stop_word\n",
    "\n",
    "def remove_punctuation(w):\n",
    "    return w not in string.punctuation\n",
    "\n",
    "def lower_case(w):\n",
    "    return w.lower()\n",
    "\n",
    "def bm25_tokenizer(text):\n",
    "    tokens = word_tokenize(text)\n",
    "    tokens = list(map(lower_case, tokens))\n",
    "    tokens = list(filter(remove_punctuation, tokens))\n",
    "    tokens = list(filter(remove_stopword, tokens))\n",
    "    return tokens\n"
   ]
  },
  {
   "cell_type": "code",
   "execution_count": 18,
   "metadata": {
    "execution": {
     "iopub.execute_input": "2024-12-14T07:16:51.311252Z",
     "iopub.status.busy": "2024-12-14T07:16:51.310288Z",
     "iopub.status.idle": "2024-12-14T07:17:05.238000Z",
     "shell.execute_reply": "2024-12-14T07:17:05.236832Z",
     "shell.execute_reply.started": "2024-12-14T07:16:51.311210Z"
    },
    "trusted": true
   },
   "outputs": [],
   "source": [
    "\n",
    "with open('/kaggle/working/question_answer.json', 'r', encoding='utf-8') as f:\n",
    "    question_answer_data = json.load(f)\n",
    "\n",
    "with open('/kaggle/working/legal_dict.json', 'r', encoding='utf-8') as f:\n",
    "    legal_dict = json.load(f)\n",
    "law_texts = [entry['text'] for entry in legal_dict.values()]\n",
    "\n",
    "with open('/kaggle/working/bm25_model.pkl', 'rb') as f:\n",
    "    bm25 = pickle.load(f)"
   ]
  },
  {
   "cell_type": "code",
   "execution_count": 21,
   "metadata": {
    "execution": {
     "iopub.execute_input": "2024-12-14T07:18:18.618295Z",
     "iopub.status.busy": "2024-12-14T07:18:18.617151Z",
     "iopub.status.idle": "2024-12-14T07:18:18.626682Z",
     "shell.execute_reply": "2024-12-14T07:18:18.625383Z",
     "shell.execute_reply.started": "2024-12-14T07:18:18.618253Z"
    },
    "trusted": true
   },
   "outputs": [],
   "source": [
    "\n",
    "chunk_size = len(question_answer_data) // 8\n",
    "chunks = [question_answer_data[i:i + chunk_size] for i in range(0, len(question_answer_data), chunk_size)]\n",
    "\n",
    "chunk_to_process = chunks[num - 1] \n"
   ]
  },
  {
   "cell_type": "code",
   "execution_count": 22,
   "metadata": {
    "_cell_guid": "b1076dfc-b9ad-4769-8c92-a6c4dae69d19",
    "_uuid": "8f2839f25d086af736a60e9eeb907d3b93b6e0e5",
    "execution": {
     "iopub.execute_input": "2024-12-14T07:18:19.253886Z",
     "iopub.status.busy": "2024-12-14T07:18:19.253149Z",
     "iopub.status.idle": "2024-12-14T07:18:31.962058Z",
     "shell.execute_reply": "2024-12-14T07:18:31.960381Z",
     "shell.execute_reply.started": "2024-12-14T07:18:19.253842Z"
    },
    "trusted": true
   },
   "outputs": [
    {
     "name": "stdout",
     "output_type": "stream",
     "text": [
      "Processing part 1...\n"
     ]
    },
    {
     "name": "stderr",
     "output_type": "stream",
     "text": [
      "Processing part 1:   0%|          | 7/10402 [00:12<5:12:54,  1.81s/it]\n"
     ]
    },
    {
     "ename": "KeyboardInterrupt",
     "evalue": "",
     "output_type": "error",
     "traceback": [
      "\u001b[0;31m---------------------------------------------------------------------------\u001b[0m",
      "\u001b[0;31mKeyboardInterrupt\u001b[0m                         Traceback (most recent call last)",
      "Cell \u001b[0;32mIn[22], line 14\u001b[0m\n\u001b[1;32m     11\u001b[0m query_tokens \u001b[38;5;241m=\u001b[39m bm25_tokenizer(question)\n\u001b[1;32m     13\u001b[0m \u001b[38;5;66;03m# Tính điểm BM25 cho câu hỏi với tất cả các văn bản trong legal_dict\u001b[39;00m\n\u001b[0;32m---> 14\u001b[0m scores \u001b[38;5;241m=\u001b[39m \u001b[43mbm25\u001b[49m\u001b[38;5;241;43m.\u001b[39;49m\u001b[43mget_scores\u001b[49m\u001b[43m(\u001b[49m\u001b[43mquery_tokens\u001b[49m\u001b[43m)\u001b[49m\n\u001b[1;32m     15\u001b[0m ranked_indices \u001b[38;5;241m=\u001b[39m np\u001b[38;5;241m.\u001b[39margsort(scores)[::\u001b[38;5;241m-\u001b[39m\u001b[38;5;241m1\u001b[39m]  \u001b[38;5;66;03m# Sắp xếp điểm từ cao xuống thấp\u001b[39;00m\n\u001b[1;32m     17\u001b[0m \u001b[38;5;66;03m# Loại bỏ những văn bản đã có trong answers\u001b[39;00m\n",
      "File \u001b[0;32m/opt/conda/lib/python3.10/site-packages/rank_bm25.py:118\u001b[0m, in \u001b[0;36mBM25Okapi.get_scores\u001b[0;34m(self, query)\u001b[0m\n\u001b[1;32m    116\u001b[0m doc_len \u001b[38;5;241m=\u001b[39m np\u001b[38;5;241m.\u001b[39marray(\u001b[38;5;28mself\u001b[39m\u001b[38;5;241m.\u001b[39mdoc_len)\n\u001b[1;32m    117\u001b[0m \u001b[38;5;28;01mfor\u001b[39;00m q \u001b[38;5;129;01min\u001b[39;00m query:\n\u001b[0;32m--> 118\u001b[0m     q_freq \u001b[38;5;241m=\u001b[39m np\u001b[38;5;241m.\u001b[39marray([(doc\u001b[38;5;241m.\u001b[39mget(q) \u001b[38;5;129;01mor\u001b[39;00m \u001b[38;5;241m0\u001b[39m) \u001b[38;5;28;01mfor\u001b[39;00m doc \u001b[38;5;129;01min\u001b[39;00m \u001b[38;5;28mself\u001b[39m\u001b[38;5;241m.\u001b[39mdoc_freqs])\n\u001b[1;32m    119\u001b[0m     score \u001b[38;5;241m+\u001b[39m\u001b[38;5;241m=\u001b[39m (\u001b[38;5;28mself\u001b[39m\u001b[38;5;241m.\u001b[39midf\u001b[38;5;241m.\u001b[39mget(q) \u001b[38;5;129;01mor\u001b[39;00m \u001b[38;5;241m0\u001b[39m) \u001b[38;5;241m*\u001b[39m (q_freq \u001b[38;5;241m*\u001b[39m (\u001b[38;5;28mself\u001b[39m\u001b[38;5;241m.\u001b[39mk1 \u001b[38;5;241m+\u001b[39m \u001b[38;5;241m1\u001b[39m) \u001b[38;5;241m/\u001b[39m\n\u001b[1;32m    120\u001b[0m                                        (q_freq \u001b[38;5;241m+\u001b[39m \u001b[38;5;28mself\u001b[39m\u001b[38;5;241m.\u001b[39mk1 \u001b[38;5;241m*\u001b[39m (\u001b[38;5;241m1\u001b[39m \u001b[38;5;241m-\u001b[39m \u001b[38;5;28mself\u001b[39m\u001b[38;5;241m.\u001b[39mb \u001b[38;5;241m+\u001b[39m \u001b[38;5;28mself\u001b[39m\u001b[38;5;241m.\u001b[39mb \u001b[38;5;241m*\u001b[39m doc_len \u001b[38;5;241m/\u001b[39m \u001b[38;5;28mself\u001b[39m\u001b[38;5;241m.\u001b[39mavgdl)))\n\u001b[1;32m    121\u001b[0m \u001b[38;5;28;01mreturn\u001b[39;00m score\n",
      "File \u001b[0;32m/opt/conda/lib/python3.10/site-packages/rank_bm25.py:118\u001b[0m, in \u001b[0;36m<listcomp>\u001b[0;34m(.0)\u001b[0m\n\u001b[1;32m    116\u001b[0m doc_len \u001b[38;5;241m=\u001b[39m np\u001b[38;5;241m.\u001b[39marray(\u001b[38;5;28mself\u001b[39m\u001b[38;5;241m.\u001b[39mdoc_len)\n\u001b[1;32m    117\u001b[0m \u001b[38;5;28;01mfor\u001b[39;00m q \u001b[38;5;129;01min\u001b[39;00m query:\n\u001b[0;32m--> 118\u001b[0m     q_freq \u001b[38;5;241m=\u001b[39m np\u001b[38;5;241m.\u001b[39marray([(\u001b[43mdoc\u001b[49m\u001b[38;5;241;43m.\u001b[39;49m\u001b[43mget\u001b[49m\u001b[43m(\u001b[49m\u001b[43mq\u001b[49m\u001b[43m)\u001b[49m \u001b[38;5;129;01mor\u001b[39;00m \u001b[38;5;241m0\u001b[39m) \u001b[38;5;28;01mfor\u001b[39;00m doc \u001b[38;5;129;01min\u001b[39;00m \u001b[38;5;28mself\u001b[39m\u001b[38;5;241m.\u001b[39mdoc_freqs])\n\u001b[1;32m    119\u001b[0m     score \u001b[38;5;241m+\u001b[39m\u001b[38;5;241m=\u001b[39m (\u001b[38;5;28mself\u001b[39m\u001b[38;5;241m.\u001b[39midf\u001b[38;5;241m.\u001b[39mget(q) \u001b[38;5;129;01mor\u001b[39;00m \u001b[38;5;241m0\u001b[39m) \u001b[38;5;241m*\u001b[39m (q_freq \u001b[38;5;241m*\u001b[39m (\u001b[38;5;28mself\u001b[39m\u001b[38;5;241m.\u001b[39mk1 \u001b[38;5;241m+\u001b[39m \u001b[38;5;241m1\u001b[39m) \u001b[38;5;241m/\u001b[39m\n\u001b[1;32m    120\u001b[0m                                        (q_freq \u001b[38;5;241m+\u001b[39m \u001b[38;5;28mself\u001b[39m\u001b[38;5;241m.\u001b[39mk1 \u001b[38;5;241m*\u001b[39m (\u001b[38;5;241m1\u001b[39m \u001b[38;5;241m-\u001b[39m \u001b[38;5;28mself\u001b[39m\u001b[38;5;241m.\u001b[39mb \u001b[38;5;241m+\u001b[39m \u001b[38;5;28mself\u001b[39m\u001b[38;5;241m.\u001b[39mb \u001b[38;5;241m*\u001b[39m doc_len \u001b[38;5;241m/\u001b[39m \u001b[38;5;28mself\u001b[39m\u001b[38;5;241m.\u001b[39mavgdl)))\n\u001b[1;32m    121\u001b[0m \u001b[38;5;28;01mreturn\u001b[39;00m score\n",
      "\u001b[0;31mKeyboardInterrupt\u001b[0m: "
     ]
    }
   ],
   "source": [
    "\n",
    "output = []\n",
    "\n",
    "print(f\"Processing part {num}...\")\n",
    "for qa in tqdm(chunk_to_process, desc=f\"Processing part {num}\"):\n",
    "    question = qa['question']\n",
    "    answers = [answer['text'] for answer in qa['answer']]\n",
    "    query_tokens = bm25_tokenizer(question)\n",
    "    scores = bm25.get_scores(query_tokens)\n",
    "    ranked_indices = np.argsort(scores)[::-1]  \n",
    "    \n",
    "    negative_indices = []\n",
    "    for idx in ranked_indices:\n",
    "        law_key = list(legal_dict.keys())[idx]\n",
    "        \n",
    "        if legal_dict[law_key]['text'] not in answers:\n",
    "            negative_indices.append(idx)\n",
    "        \n",
    "        if len(negative_indices) == 20:\n",
    "            break\n",
    "    \n",
    "    negatives = [legal_dict[list(legal_dict.keys())[idx]]['text'] for idx in negative_indices]\n",
    "    \n",
    "    output.append({\n",
    "        'query': question, 'pos': answers, 'neg': negatives, 'prompt': \"Given a question, retrieve legal passages that answer the question\", 'type': \"normal\"\n",
    "    })\n",
    "\n",
    "with open(f'output_part{num}.jsonl', 'w', encoding='utf-8') as f:\n",
    "    for item in output:\n",
    "        json.dump(item, f, ensure_ascii=False)\n",
    "        f.write('\\n')\n",
    "\n",
    "print(f\"Đã xử lý và lưu phần {num} vào file 'output_part{num}.jsonl'\")"
   ]
  },
  {
   "cell_type": "code",
   "execution_count": null,
   "metadata": {
    "trusted": true
   },
   "outputs": [],
   "source": [
    "import json\n",
    "import zipfile\n",
    "\n",
    "zip_filename = f'output_part{num}.zip'\n",
    "with zipfile.ZipFile(zip_filename, 'w', zipfile.ZIP_DEFLATED) as zipf:\n",
    "    zipf.write(f'output_part{num}.jsonl', arcname=f'output_part{num}.jsonl')\n",
    "\n",
    "print(f\"Đã zip file thành '{zip_filename}'\")\n"
   ]
  }
 ],
 "metadata": {
  "kaggle": {
   "accelerator": "none",
   "dataSources": [],
   "dockerImageVersionId": 30804,
   "isGpuEnabled": false,
   "isInternetEnabled": true,
   "language": "python",
   "sourceType": "notebook"
  },
  "kernelspec": {
   "display_name": "Python 3",
   "language": "python",
   "name": "python3"
  },
  "language_info": {
   "codemirror_mode": {
    "name": "ipython",
    "version": 3
   },
   "file_extension": ".py",
   "mimetype": "text/x-python",
   "name": "python",
   "nbconvert_exporter": "python",
   "pygments_lexer": "ipython3",
   "version": "3.10.14"
  }
 },
 "nbformat": 4,
 "nbformat_minor": 4
}
